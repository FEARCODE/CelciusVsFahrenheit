{
 "cells": [
  {
   "cell_type": "code",
   "execution_count": 5,
   "metadata": {},
   "outputs": [],
   "source": [
    "from __future__ import absolute_import, division, print_function, unicode_literals\n",
    "import tensorflow as tf\n",
    "\n",
    "import numpy as np"
   ]
  },
  {
   "cell_type": "code",
   "execution_count": 6,
   "metadata": {},
   "outputs": [],
   "source": [
    "import logging\n",
    "logger = tf.get_logger()\n",
    "logger.setLevel(logging.ERROR)"
   ]
  },
  {
   "cell_type": "code",
   "execution_count": 7,
   "metadata": {},
   "outputs": [
    {
     "name": "stdout",
     "output_type": "stream",
     "text": [
      "-40.0 degrees Celsius = -40.0 degrees Fahrenheit\n",
      "-10.0 degrees Celsius = 14.0 degrees Fahrenheit\n",
      "0.0 degrees Celsius = 32.0 degrees Fahrenheit\n",
      "8.0 degrees Celsius = 46.0 degrees Fahrenheit\n",
      "15.0 degrees Celsius = 59.0 degrees Fahrenheit\n",
      "22.0 degrees Celsius = 72.0 degrees Fahrenheit\n",
      "38.0 degrees Celsius = 100.0 degrees Fahrenheit\n"
     ]
    }
   ],
   "source": [
    "celsius_q    = np.array([-40, -10,  0,  8, 15, 22,  38],  dtype=float)\n",
    "fahrenheit_a = np.array([-40,  14, 32, 46, 59, 72, 100],  dtype=float)\n",
    "\n",
    "for i,c in enumerate(celsius_q):\n",
    "  print(\"{} degrees Celsius = {} degrees Fahrenheit\".format(c, fahrenheit_a[i]))"
   ]
  },
  {
   "cell_type": "code",
   "execution_count": 8,
   "metadata": {},
   "outputs": [],
   "source": [
    "\n",
    "l0 = tf.keras.layers.Dense(units=1, input_shape=[1])\n",
    "\n",
    "model = tf.keras.Sequential([l0])"
   ]
  },
  {
   "cell_type": "code",
   "execution_count": 9,
   "metadata": {},
   "outputs": [],
   "source": [
    "\n",
    "model.compile(loss='mean_squared_error',\n",
    "              optimizer=tf.keras.optimizers.Adam(0.1))"
   ]
  },
  {
   "cell_type": "code",
   "execution_count": 10,
   "metadata": {},
   "outputs": [
    {
     "name": "stdout",
     "output_type": "stream",
     "text": [
      "Finished training the model\n"
     ]
    }
   ],
   "source": [
    "history = model.fit(celsius_q, fahrenheit_a, epochs=500, verbose=False)\n",
    "print(\"Finished training the model\")"
   ]
  },
  {
   "cell_type": "code",
   "execution_count": 11,
   "metadata": {},
   "outputs": [
    {
     "data": {
      "text/plain": [
       "[<matplotlib.lines.Line2D at 0x29ae9fc3e10>]"
      ]
     },
     "execution_count": 11,
     "metadata": {},
     "output_type": "execute_result"
    },
    {
     "data": {
      "image/png": "[encoded data removed]",
      "text/plain": [
       "<Figure size 432x288 with 1 Axes>"
      ]
     },
     "metadata": {
      "needs_background": "light"
     },
     "output_type": "display_data"
    }
   ],
   "source": [
    "import matplotlib.pyplot as plt\n",
    "plt.xlabel('Epoch Number')\n",
    "plt.ylabel(\"Loss Magnitude\")\n",
    "plt.plot(history.history['loss'])"
   ]
  },
  {
   "cell_type": "code",
   "execution_count": 12,
   "metadata": {},
   "outputs": [
    {
     "name": "stdout",
     "output_type": "stream",
     "text": [
      "[[211.3341]]\n"
     ]
    }
   ],
   "source": [
    "\n",
    "print(model.predict([100.0]))"
   ]
  },
  {
   "cell_type": "code",
   "execution_count": 13,
   "metadata": {},
   "outputs": [
    {
     "name": "stdout",
     "output_type": "stream",
     "text": [
      "These are the layer variables: [array([[1.8211485]], dtype=float32), array([29.219248], dtype=float32)]\n"
     ]
    }
   ],
   "source": [
    "print(\"These are the layer variables: {}\".format(l0.get_weights()))"
   ]
  },
  {
   "cell_type": "code",
   "execution_count": 14,
   "metadata": {},
   "outputs": [
    {
     "name": "stdout",
     "output_type": "stream",
     "text": [
      "Finished training the model\n",
      "[[211.74742]]\n",
      "Model predicts that 100 degrees Celsius is: [[211.74742]] degrees Fahrenheit\n",
      "These are the l0 variables: [array([[ 0.2213534 , -0.37738448,  0.14169902,  0.38478395]],\n",
      "      dtype=float32), array([-0.33167455, -3.7708743 ,  3.0649698 ,  3.776697  ], dtype=float32)]\n",
      "These are the l1 variables: [array([[-0.7616634 , -0.9383119 , -0.12215853, -0.11201903],\n",
      "       [-0.01733779,  0.347559  , -0.9449954 ,  1.3717608 ],\n",
      "       [-1.213916  ,  0.39315423,  0.49203992, -0.5911883 ],\n",
      "       [-0.03632733,  0.16489387,  1.249692  , -0.7239837 ]],\n",
      "      dtype=float32), array([-3.5920234, -1.2790246,  3.754806 , -3.6788538], dtype=float32)]\n",
      "These are the l2 variables: [array([[-0.7962687 ],\n",
      "       [-0.00939819],\n",
      "       [ 0.89015806],\n",
      "       [-0.8125978 ]], dtype=float32), array([3.3183753], dtype=float32)]\n"
     ]
    }
   ],
   "source": [
    "l0 = tf.keras.layers.Dense(units=4, input_shape=[1])\n",
    "l1 = tf.keras.layers.Dense(units=4)\n",
    "l2 = tf.keras.layers.Dense(units=1)\n",
    "model = tf.keras.Sequential([l0, l1, l2])\n",
    "model.compile(loss='mean_squared_error', optimizer=tf.keras.optimizers.Adam(0.1))\n",
    "model.fit(celsius_q, fahrenheit_a, epochs=500, verbose=False)\n",
    "print(\"Finished training the model\")\n",
    "print(model.predict([100.0]))\n",
    "print(\"Model predicts that 100 degrees Celsius is: {} degrees Fahrenheit\".format(model.predict([100.0])))\n",
    "print(\"These are the l0 variables: {}\".format(l0.get_weights()))\n",
    "print(\"These are the l1 variables: {}\".format(l1.get_weights()))\n",
    "print(\"These are the l2 variables: {}\".format(l2.get_weights()))"
   ]
  },
  {
   "cell_type": "code",
   "execution_count": null,
   "metadata": {},
   "outputs": [],
   "source": []
  }
 ],
 "metadata": {
  "kernelspec": {
   "display_name": "Python 3",
   "language": "python",
   "name": "python3"
  },
  "language_info": {
   "codemirror_mode": {
    "name": "ipython",
    "version": 3
   },
   "file_extension": ".py",
   "mimetype": "text/x-python",
   "name": "python",
   "nbconvert_exporter": "python",
   "pygments_lexer": "ipython3",
   "version": "3.7.1"
  }
 },
 "nbformat": 4,
 "nbformat_minor": 2
}
